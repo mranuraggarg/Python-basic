{
 "cells": [
  {
   "cell_type": "markdown",
   "metadata": {},
   "source": [
    "# Programing Assignment: Logical operators_1"
   ]
  },
  {
   "cell_type": "code",
   "execution_count": 2,
   "metadata": {},
   "outputs": [
    {
     "name": "stdin",
     "output_type": "stream",
     "text": [
      " 3\n",
      " 3\n"
     ]
    },
    {
     "name": "stdout",
     "output_type": "stream",
     "text": [
      "3\n"
     ]
    }
   ],
   "source": [
    "A = int(input())\n",
    "B = int(input())\n",
    "\n",
    "if A>=B:\n",
    "    print(A)\n",
    "else:\n",
    "    print(B)"
   ]
  },
  {
   "cell_type": "markdown",
   "metadata": {},
   "source": [
    "# Programming Assignment: Logical operators_2"
   ]
  },
  {
   "cell_type": "code",
   "execution_count": 10,
   "metadata": {},
   "outputs": [
    {
     "name": "stdin",
     "output_type": "stream",
     "text": [
      " 2\n",
      " 2\n",
      " 10\n"
     ]
    },
    {
     "name": "stdout",
     "output_type": "stream",
     "text": [
      "10\n"
     ]
    }
   ],
   "source": [
    "A = int(input())\n",
    "B = int(input())\n",
    "C = int(input())\n",
    "\n",
    "l = [A,B,C]\n",
    "print(max(l))"
   ]
  },
  {
   "cell_type": "markdown",
   "metadata": {},
   "source": [
    "# Programming Assignment: Conditional Statement Practice_1"
   ]
  },
  {
   "cell_type": "code",
   "execution_count": 1,
   "metadata": {},
   "outputs": [
    {
     "name": "stdin",
     "output_type": "stream",
     "text": [
      " 2020\n"
     ]
    },
    {
     "name": "stdout",
     "output_type": "stream",
     "text": [
      "YES\n"
     ]
    }
   ],
   "source": [
    "year = int(input())\n",
    "if (year % 400 == 0) or (year % 4 == 0 and year % 100 != 0):\n",
    "    print('YES')\n",
    "else:\n",
    "    print('NO')"
   ]
  },
  {
   "cell_type": "markdown",
   "metadata": {},
   "source": [
    "# Programming Assignment: Conditional Statement Practice_2"
   ]
  },
  {
   "cell_type": "code",
   "execution_count": 6,
   "metadata": {},
   "outputs": [
    {
     "name": "stdin",
     "output_type": "stream",
     "text": [
      " 2\n",
      " 3\n",
      " 5\n",
      " 6\n"
     ]
    },
    {
     "name": "stdout",
     "output_type": "stream",
     "text": [
      "YES\n"
     ]
    }
   ],
   "source": [
    "A = int(input())\n",
    "B = int(input())\n",
    "C = int(input())\n",
    "D = int(input())\n",
    "\n",
    "if (abs(A-C) == abs(B-D)):\n",
    "    print('YES')\n",
    "else:\n",
    "    print('NO')"
   ]
  },
  {
   "cell_type": "markdown",
   "metadata": {},
   "source": [
    "# Programming Assignment: Conditional Statement Practice_3"
   ]
  },
  {
   "cell_type": "code",
   "execution_count": 12,
   "metadata": {},
   "outputs": [
    {
     "name": "stdin",
     "output_type": "stream",
     "text": [
      " 2\n",
      " 3\n",
      " 7\n"
     ]
    },
    {
     "name": "stdout",
     "output_type": "stream",
     "text": [
      "24\n"
     ]
    }
   ],
   "source": [
    "from math import ceil\n",
    "k = int(input())\n",
    "m = int(input())\n",
    "n = int(input())\n",
    "\n",
    "time = ceil(n / k) * 2 * m\n",
    "print(time)"
   ]
  },
  {
   "cell_type": "markdown",
   "metadata": {},
   "source": [
    "# Programming Assignment: While loop practice_1"
   ]
  },
  {
   "cell_type": "code",
   "execution_count": 116,
   "metadata": {},
   "outputs": [
    {
     "name": "stdin",
     "output_type": "stream",
     "text": [
      " 4\n"
     ]
    },
    {
     "name": "stdout",
     "output_type": "stream",
     "text": [
      "1 4 "
     ]
    }
   ],
   "source": [
    "N = int(input())\n",
    "\n",
    "y=1\n",
    "i=2\n",
    "\n",
    "while y <= N:\n",
    "    print(y, end=\" \")\n",
    "    y = i*i\n",
    "    i += 1"
   ]
  },
  {
   "cell_type": "markdown",
   "metadata": {},
   "source": [
    "# Programming Assignment: While loop practice_2"
   ]
  },
  {
   "cell_type": "code",
   "execution_count": 46,
   "metadata": {},
   "outputs": [
    {
     "name": "stdin",
     "output_type": "stream",
     "text": [
      " 8\n"
     ]
    },
    {
     "name": "stdout",
     "output_type": "stream",
     "text": [
      "1 2 4 8 "
     ]
    }
   ],
   "source": [
    "N = int(input())\n",
    "\n",
    "y = 1\n",
    "\n",
    "while y <= N:\n",
    "    print(y, end=\" \")\n",
    "    y *= 2"
   ]
  },
  {
   "cell_type": "markdown",
   "metadata": {},
   "source": [
    "# Programming Assignment: While loop practice_3"
   ]
  },
  {
   "cell_type": "code",
   "execution_count": 103,
   "metadata": {},
   "outputs": [
    {
     "name": "stdin",
     "output_type": "stream",
     "text": [
      " 1000\n",
      " 9\n",
      " 5000\n"
     ]
    },
    {
     "name": "stdout",
     "output_type": "stream",
     "text": [
      "19\n"
     ]
    }
   ],
   "source": [
    "x = int(input())\n",
    "p = int(input())\n",
    "y = int(input())\n",
    "\n",
    "A = x\n",
    "t = 0\n",
    "while A < y:\n",
    "    I = str(A * p/100 * 1)\n",
    "    z = I.index(\".\")\n",
    "    I = float(I[0:z+3])\n",
    "    A = A + I\n",
    "    t+=1\n",
    "print(t)"
   ]
  },
  {
   "cell_type": "markdown",
   "metadata": {},
   "source": [
    "# Programming Assignment: While loop practice_4"
   ]
  },
  {
   "cell_type": "code",
   "execution_count": 60,
   "metadata": {},
   "outputs": [
    {
     "name": "stdin",
     "output_type": "stream",
     "text": [
      " 2\n"
     ]
    },
    {
     "name": "stdout",
     "output_type": "stream",
     "text": [
      "1\n"
     ]
    }
   ],
   "source": [
    "def F(n):\n",
    "    ans = 0\n",
    "    if n == 0:\n",
    "        ans = 0\n",
    "    elif n == 1:\n",
    "        ans = 1\n",
    "    elif n > 1:\n",
    "        ans = F(n - 1) + F(n - 2)\n",
    "    \n",
    "    return ans\n",
    "\n",
    "N = int(input())\n",
    "print(F(N))"
   ]
  },
  {
   "cell_type": "code",
   "execution_count": 14,
   "metadata": {},
   "outputs": [
    {
     "name": "stdin",
     "output_type": "stream",
     "text": [
      " 8\n"
     ]
    },
    {
     "name": "stdout",
     "output_type": "stream",
     "text": [
      "21\n"
     ]
    }
   ],
   "source": [
    "N = int(input())\n",
    "\n",
    "ans = 0\n",
    "\n",
    "if N == 0:\n",
    "    ans=0\n",
    "elif N == 1:\n",
    "    ans=1\n",
    "    \n",
    "n1, n2 = 0, 1\n",
    "\n",
    "while n <= N and n>1:\n",
    "    ans = n1 + n2\n",
    "    n1 = n2\n",
    "    n2 = ans\n",
    "    n = n + 1\n",
    "print(ans)"
   ]
  },
  {
   "cell_type": "code",
   "execution_count": 1,
   "metadata": {},
   "outputs": [
    {
     "name": "stdin",
     "output_type": "stream",
     "text": [
      " 1\n"
     ]
    },
    {
     "name": "stdout",
     "output_type": "stream",
     "text": [
      "1\n"
     ]
    }
   ],
   "source": [
    "# list a stores F(n) for all 0<= n<=100\n",
    "a = [0,1, 1, 2, 3, 5, 8, 13, 21, 34, 55, 89, 144, 233, 377, \n",
    "     610, 987, 1597, 2584, 4181, 6765, 10946, 17711, 28657, \n",
    "     46368, 75025, 121393, 196418, 317811, 514229, 832040, \n",
    "     1346269, 2178309, 3524578, 5702887, 9227465, 14930352, \n",
    "     24157817, 39088169, 63245986, 102334155, 165580141, \n",
    "     267914296, 433494437, 701408733, 1134903170, 1836311903, \n",
    "     2971215073, 4807526976, 7778742049, 12586269025, 20365011074, \n",
    "     32951280099, 53316291173, 86267571272, 139583862445, 225851433717, \n",
    "     365435296162, 591286729879, 956722026041, 1548008755920, 2504730781961, \n",
    "     4052739537881, 6557470319842, 10610209857723, 17167680177565, \n",
    "     27777890035288, 44945570212853, 72723460248141, 117669030460994, \n",
    "     190392490709135, 308061521170129, 498454011879264, 806515533049393, \n",
    "     1304969544928657, 2111485077978050, 3416454622906707, 5527939700884757, \n",
    "     8944394323791464, 14472334024676221, 23416728348467685, 37889062373143906, \n",
    "     61305790721611591, 99194853094755497, 160500643816367088, 259695496911122585, \n",
    "     420196140727489673, 679891637638612258, 1100087778366101931, 1779979416004714189, \n",
    "     2880067194370816120, 4660046610375530309, 7540113804746346429, 12200160415121876738, \n",
    "     19740274219868223167, 31940434634990099905, 51680708854858323072, 83621143489848422977, \n",
    "     135301852344706746049, 218922995834555169026, 354224848179261915075]\n",
    "\n",
    "N = int(input())\n",
    "print(a[N])"
   ]
  },
  {
   "cell_type": "markdown",
   "metadata": {},
   "source": [
    "# Programming Assignment: While loop practice_5"
   ]
  },
  {
   "cell_type": "code",
   "execution_count": 53,
   "metadata": {},
   "outputs": [
    {
     "name": "stdin",
     "output_type": "stream",
     "text": [
      " 8\n"
     ]
    },
    {
     "name": "stdout",
     "output_type": "stream",
     "text": [
      "6\n"
     ]
    }
   ],
   "source": [
    "def F(n):\n",
    "    ans = 0\n",
    "    if n == 0:\n",
    "        ans = 0\n",
    "    elif n == 1:\n",
    "        ans = 1\n",
    "    elif n > 1:\n",
    "        ans = F(n - 1) + F(n - 2)\n",
    "    \n",
    "    return ans\n",
    "\n",
    "N = int(input())\n",
    "n = 0\n",
    "while F(n) <= N:\n",
    "    ans = F(n)\n",
    "    n += 1\n",
    "\n",
    "if N == 1:\n",
    "    print(1)\n",
    "elif N == ans:\n",
    "    print(n-1)\n",
    "else:\n",
    "    print(-1)"
   ]
  },
  {
   "cell_type": "code",
   "execution_count": null,
   "metadata": {},
   "outputs": [],
   "source": []
  }
 ],
 "metadata": {
  "kernelspec": {
   "display_name": "Python 3",
   "language": "python",
   "name": "python3"
  },
  "language_info": {
   "codemirror_mode": {
    "name": "ipython",
    "version": 3
   },
   "file_extension": ".py",
   "mimetype": "text/x-python",
   "name": "python",
   "nbconvert_exporter": "python",
   "pygments_lexer": "ipython3",
   "version": "3.8.2"
  }
 },
 "nbformat": 4,
 "nbformat_minor": 4
}
