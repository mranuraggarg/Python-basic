{
 "cells": [
  {
   "cell_type": "markdown",
   "metadata": {},
   "source": [
    "# Programming Assignment: Return statement_1\n",
    "\n",
    "Write a program a.k.a. calculator which performs basic mathematical operations (+, -, * or /). Your solution must be written as a function.\n",
    "\n",
    "### Input\n",
    "\n",
    "Two real numbers and a mathematical symbol are entered from the keyboard. It is assumed that a user inputs data properly, so the program does not need to check whether the input is correct.\n",
    "\n",
    "### Output\n",
    "\n",
    "Print the result of calculation for a given expression. NB!For division and subtraction, assume that the first number is divided by the second one; the second one is also subtracted from the first."
   ]
  },
  {
   "cell_type": "code",
   "execution_count": 6,
   "metadata": {},
   "outputs": [
    {
     "name": "stdin",
     "output_type": "stream",
     "text": [
      " 2\n",
      " 1\n",
      " +\n"
     ]
    },
    {
     "name": "stdout",
     "output_type": "stream",
     "text": [
      "3.0\n"
     ]
    }
   ],
   "source": [
    "x = float(input())\n",
    "y = float(input())\n",
    "sym = input()\n",
    "\n",
    "if sym=='+':\n",
    "    print(x+y)\n",
    "\n",
    "elif sym=='-':\n",
    "    print(x-y)\n",
    "\n",
    "elif sym=='*':\n",
    "    print(x*y)\n",
    "\n",
    "elif sym=='/':\n",
    "    print(x/y)"
   ]
  },
  {
   "cell_type": "markdown",
   "metadata": {},
   "source": [
    "# Programming Assignment: Return statement_2\n",
    "\n",
    "Write a program that determines whether an entered number is prime. Your solution must be written as a function.\n",
    "\n",
    "### Input\n",
    "\n",
    "A real number is given. It is assumed that a user inputs data properly, so the program does not need to check whether the input is correct.\n",
    "\n",
    "### Output\n",
    "\n",
    "Print 'YES' if the given number is prime, or print 'NO' otherwise."
   ]
  },
  {
   "cell_type": "code",
   "execution_count": 23,
   "metadata": {},
   "outputs": [
    {
     "name": "stdin",
     "output_type": "stream",
     "text": [
      " 1\n"
     ]
    },
    {
     "name": "stdout",
     "output_type": "stream",
     "text": [
      "NO\n"
     ]
    }
   ],
   "source": [
    "def prime_check(num):\n",
    "    if num > 1:\n",
    "        for i in range(2,num):\n",
    "            if (num % i) == 0:\n",
    "                break\n",
    "        else:\n",
    "            return True\n",
    "\n",
    "n = int(input())\n",
    "x = prime_check(n)\n",
    "if x ==True:\n",
    "    print('YES')\n",
    "else:\n",
    "    print('NO')"
   ]
  },
  {
   "cell_type": "markdown",
   "metadata": {},
   "source": [
    "# Programming Assignment: Return statement_3\n",
    "\n",
    "Write a min4 (a, b, c, d) function that calculates the minimum of four numbers. The function should not contain an if statement, but uses the standard min function instead.\n",
    "\n",
    "### Input\n",
    "\n",
    "Four integers are entered. It is assumed that a user inputs data properly, so the program does not need to check whether the input is correct.\n",
    "\n",
    "### Output\n",
    "\n",
    "Print the solution for the problem."
   ]
  },
  {
   "cell_type": "code",
   "execution_count": 26,
   "metadata": {},
   "outputs": [
    {
     "name": "stdin",
     "output_type": "stream",
     "text": [
      " 10\n",
      " 20\n",
      " 5\n",
      " 1\n"
     ]
    },
    {
     "name": "stdout",
     "output_type": "stream",
     "text": [
      "1\n"
     ]
    }
   ],
   "source": [
    "def check_min(a,b,c,d,l):\n",
    "    l.append(a)\n",
    "    l.append(b)\n",
    "    l.append(c)\n",
    "    l.append(d)\n",
    "    return(min(l))\n",
    "\n",
    "l = []\n",
    "a = int(input())\n",
    "b = int(input())\n",
    "c = int(input())\n",
    "d = int(input())\n",
    "\n",
    "print(check_min(a,b,c,d,l))"
   ]
  },
  {
   "cell_type": "markdown",
   "metadata": {},
   "source": [
    "# Programming Assignment: Return statement_4\n",
    "\n",
    "Write a function power(a, n) which returns the result of a^n. Do not use the standard exponentiation function or operation to solve this problem.\n",
    "\n",
    "### I​nput\n",
    "\n",
    "A positive integer a and an integer n are entered. It is assumed that a user inputs data properly, so the program does not need to check whether the input is correct.\n",
    "\n",
    "### O​utput\n",
    "\n",
    "Print the solution for the problem. Make sure that a function returns an integer."
   ]
  },
  {
   "cell_type": "code",
   "execution_count": 37,
   "metadata": {},
   "outputs": [
    {
     "name": "stdin",
     "output_type": "stream",
     "text": [
      " 10\n",
      " 3\n"
     ]
    },
    {
     "name": "stdout",
     "output_type": "stream",
     "text": [
      "1000\n"
     ]
    }
   ],
   "source": [
    "def pow_n(a,b):\n",
    "    d = 1\n",
    "    for i in range(b):\n",
    "        d = d*a\n",
    "    return(d)\n",
    "\n",
    "l = []\n",
    "a = int(input())\n",
    "b = int(input())\n",
    "\n",
    "print(pow_n(a,b))"
   ]
  },
  {
   "cell_type": "markdown",
   "metadata": {},
   "source": [
    "# Programming Assignment: Return statement_5\n",
    "\n",
    "You are given an n × m two-dimensional array (n, m <1000). An array symmetric to it with respect to the main diagonal is called transposed to the given one. It has dimensions m × n, i.e. the rows of the original array become the columns of the transposed one, and the columns of the original array become the rows of the transposed one. For a given array, make a transposed array and print it on the screen.\n",
    "\n",
    "### Input\n",
    "\n",
    "First, two integers n and m are entered; then, the array is entered. It is assumed that a user inputs data properly, so the program does not need to check whether the input is correct.\n",
    "\n",
    "### Output\n",
    "\n",
    "Print the transposed array."
   ]
  },
  {
   "cell_type": "code",
   "execution_count": 65,
   "metadata": {},
   "outputs": [
    {
     "name": "stdin",
     "output_type": "stream",
     "text": [
      " 3 4\n",
      " 11 12 13 14\n",
      " 21 22 23 24\n",
      " 31 32 33 34\n"
     ]
    },
    {
     "name": "stdout",
     "output_type": "stream",
     "text": [
      "11 21 31\n",
      "12 22 32\n",
      "13 23 33\n",
      "14 24 34\n"
     ]
    }
   ],
   "source": [
    "def transpose(a,b,array,d):\n",
    "    for i in range(b):\n",
    "        for j in range(a):\n",
    "            d[i][j]=array[j][i]\n",
    "    return d\n",
    "\n",
    "a = input()\n",
    "shape = []\n",
    "for i in a.split(' '):\n",
    "    shape.append(int(i))\n",
    "a = shape[0]\n",
    "b = shape[1]\n",
    "array = []\n",
    "for i in range(a):\n",
    "    x = input()\n",
    "    array.append(x.split(' '))\n",
    "\n",
    "d = [ [ None for y in range( a ) ] for x in range( b ) ]\n",
    "#d = transpose(a,b,array,d)\n",
    "#for i in range(b):\n",
    "#    for j in range(a):\n",
    "#        print(array[j][i],end=\" \")\n",
    "#    print()\n",
    "\n",
    "#s =''\n",
    "#for row in d:\n",
    "#    for j in range(len(row)):\n",
    "#        s+=str(row[j])+' '\n",
    "transpose(a,b,array,d)\n",
    "for row in d:\n",
    "    print(*row)"
   ]
  },
  {
   "cell_type": "markdown",
   "metadata": {},
   "source": [
    "# Programming Assignment: Return statement_6\n",
    "\n",
    "A rectangular array of size n x m is given. Write a function rotate(array) which rotates it 90 degrees clockwise.\n",
    "\n",
    "### Input\n",
    "\n",
    "First, two integers n and m are entered; then, the array is entered. It is assumed that a user inputs data properly, so the program does not need to check whether the input is correct.\n",
    "\n",
    "### Output\n",
    "\n",
    "Print the rotated array."
   ]
  },
  {
   "cell_type": "code",
   "execution_count": 67,
   "metadata": {},
   "outputs": [
    {
     "name": "stdin",
     "output_type": "stream",
     "text": [
      " 3 4\n",
      " 11 12 13 14\n",
      " 21 22 23 24\n",
      " 31 32 33 34\n"
     ]
    },
    {
     "name": "stdout",
     "output_type": "stream",
     "text": [
      "31 21 11\n",
      "32 22 12\n",
      "33 23 13\n",
      "34 24 14\n"
     ]
    }
   ],
   "source": [
    "def transpose(a,b,array,d):\n",
    "    for i in range(b):\n",
    "        for j in range(a):\n",
    "            d[i][j]=array[j][i]\n",
    "    return d\n",
    "\n",
    "a = input()\n",
    "shape = []\n",
    "for i in a.split(' '):\n",
    "    shape.append(int(i))\n",
    "a = shape[0]\n",
    "b = shape[1]\n",
    "array = []\n",
    "for i in range(a):\n",
    "    x = input()\n",
    "    array.append(x.split(' '))\n",
    "\n",
    "d = [ [ None for y in range( a ) ] for x in range( b ) ]\n",
    "#d = transpose(a,b,array,d)\n",
    "#for i in range(b):\n",
    "#    for j in range(a):\n",
    "#        print(array[j][i],end=\" \")\n",
    "#    print()\n",
    "\n",
    "#s =''\n",
    "#for row in d:\n",
    "#    for j in range(len(row)):\n",
    "#        s+=str(row[j])+' '\n",
    "transpose(a,b,array,d)\n",
    "for row in d:\n",
    "    print(*row[::-1])"
   ]
  },
  {
   "cell_type": "markdown",
   "metadata": {},
   "source": [
    "# Programming Assignment: Recursion_1\n",
    "\n",
    "Write a program that calculates a factorial of a given number and prints it on the screen. Keep in mind that you are supposed to use recursion to solve this task.\n",
    "\n",
    "### Input\n",
    "\n",
    "An integer is entered. It is assumed that a user inputs data properly, so the program does not need to check whether the input is correct.\n",
    "\n",
    "### Output\n",
    "\n",
    "Print the solution for the problem."
   ]
  },
  {
   "cell_type": "code",
   "execution_count": 4,
   "metadata": {},
   "outputs": [
    {
     "name": "stdin",
     "output_type": "stream",
     "text": [
      " 5\n"
     ]
    },
    {
     "name": "stdout",
     "output_type": "stream",
     "text": [
      "120\n"
     ]
    }
   ],
   "source": [
    "def factorial(n):\n",
    "    if n==0:\n",
    "        return 1\n",
    "    if n==1:\n",
    "        return 1\n",
    "    if n>1:\n",
    "        return (factorial(n-1)*n)\n",
    "\n",
    "n = int(input())\n",
    "print(factorial(n))"
   ]
  },
  {
   "cell_type": "markdown",
   "metadata": {},
   "source": [
    "# Programming Assignment: Recursion_2\n",
    "\n",
    "Write a program that calculates a sum of digits of any natural number and prints it on the screen. You are supposed to use recursion to solve this task.\n",
    "\n",
    "### I​nput\n",
    "\n",
    "A natural number is given. It is assumed that a user inputs data properly, so the program does not need to check whether the input is correct.\n",
    "\n",
    "### O​utput\n",
    "\n",
    "Print the solution of the problem."
   ]
  },
  {
   "cell_type": "code",
   "execution_count": 41,
   "metadata": {},
   "outputs": [
    {
     "name": "stdin",
     "output_type": "stream",
     "text": [
      " 20202\n"
     ]
    },
    {
     "name": "stdout",
     "output_type": "stream",
     "text": [
      "6\n"
     ]
    }
   ],
   "source": [
    "def convert(l):\n",
    "    if l<10 and l>=0:\n",
    "        return l\n",
    "    if l==10:\n",
    "        return(l-9)\n",
    "    if l>10:\n",
    "        return (l%10 + convert(l//10))\n",
    "n = int(input())\n",
    "print(convert(n))"
   ]
  },
  {
   "cell_type": "markdown",
   "metadata": {},
   "source": [
    "# Programming Assignment: Recursion_3\n",
    "\n",
    "Write a recursive function sum(a, b) that returns the sum of two non-negative integers. Of all the arithmetic operations, only +1 and -1 are allowed. You also can't use loops.\n",
    "\n",
    "### I​nput\n",
    "\n",
    "T​wo integers a and b are given. It is assumed that a user inputs data properly, so the program does not need to check whether the input is correct.\n",
    "\n",
    "### O​utput\n",
    "\n",
    "P​rint the solution for the task."
   ]
  },
  {
   "cell_type": "code",
   "execution_count": 47,
   "metadata": {},
   "outputs": [
    {
     "name": "stdin",
     "output_type": "stream",
     "text": [
      " 1\n",
      " -10\n"
     ]
    },
    {
     "data": {
      "text/plain": [
       "-9"
      ]
     },
     "execution_count": 47,
     "metadata": {},
     "output_type": "execute_result"
    }
   ],
   "source": [
    "def sum_1(a,b):\n",
    "    if b==0:\n",
    "        return a\n",
    "    if b>0:\n",
    "        return 1+sum_1(a, b-1)\n",
    "    if b<0:\n",
    "        return sum_1(a,b+1)-1\n",
    "a = int(input())\n",
    "b = int(input())\n",
    "print(sum_1(a,b))"
   ]
  },
  {
   "cell_type": "markdown",
   "metadata": {},
   "source": [
    "# Programming Assignment: Recursion_4\n",
    "\n",
    "Write a function phib(n) that returns the n-th Fibonacci number for a given non-negative integer n. Do not use loops in this task, use recursion instead.\n",
    "\n",
    "### I​nput\n",
    "\n",
    "A​ positive integer n is given. It is assumed that a user inputs data properly, so the program does not need to check whether the input is correct.\n",
    "\n",
    "### O​utput\n",
    "\n",
    "P​rint the solution for the task."
   ]
  },
  {
   "cell_type": "code",
   "execution_count": 52,
   "metadata": {},
   "outputs": [
    {
     "name": "stdin",
     "output_type": "stream",
     "text": [
      " 3\n"
     ]
    },
    {
     "name": "stdout",
     "output_type": "stream",
     "text": [
      "2\n"
     ]
    }
   ],
   "source": [
    "def phib(n):\n",
    "    ans = 0\n",
    "    if n == 0:\n",
    "        ans = 0\n",
    "    elif n == 1:\n",
    "        ans = 1\n",
    "    elif n > 1:\n",
    "        ans = phib(n - 1) + phib(n - 2)\n",
    "    \n",
    "    return ans\n",
    "\n",
    "N = int(input())\n",
    "print(phib(N))"
   ]
  },
  {
   "cell_type": "code",
   "execution_count": null,
   "metadata": {},
   "outputs": [],
   "source": []
  }
 ],
 "metadata": {
  "kernelspec": {
   "display_name": "Python 3",
   "language": "python",
   "name": "python3"
  },
  "language_info": {
   "codemirror_mode": {
    "name": "ipython",
    "version": 3
   },
   "file_extension": ".py",
   "mimetype": "text/x-python",
   "name": "python",
   "nbconvert_exporter": "python",
   "pygments_lexer": "ipython3",
   "version": "3.8.2"
  }
 },
 "nbformat": 4,
 "nbformat_minor": 4
}
