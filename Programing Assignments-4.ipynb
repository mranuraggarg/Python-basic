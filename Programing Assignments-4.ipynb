{
 "cells": [
  {
   "cell_type": "markdown",
   "metadata": {},
   "source": [
    "# Programming Assignment: For loop practice_1\n",
    "\n",
    "Two integers A and B are given (with A ≤ B). Print all integers in a range from A to B inclusive.\n",
    "\n",
    "### I​nput\n",
    "\n",
    "Two integers A and B are entered. It is assumed that a user inputs data properly, so the program does not need to check whether the input is correct.\n",
    "\n",
    "### O​utput\n",
    "\n",
    "Print the solution of the problem."
   ]
  },
  {
   "cell_type": "code",
   "execution_count": 3,
   "metadata": {},
   "outputs": [
    {
     "name": "stdin",
     "output_type": "stream",
     "text": [
      " 5\n",
      " 20\n"
     ]
    },
    {
     "name": "stdout",
     "output_type": "stream",
     "text": [
      "5 6 7 8 9 10 11 12 13 14 15 16 17 18 19 20 "
     ]
    }
   ],
   "source": [
    "A = int(input())\n",
    "B = int(input())\n",
    "if A<=B:\n",
    "    for num in range(A,B+1,1):\n",
    "        print(num, end=\" \")"
   ]
  },
  {
   "cell_type": "markdown",
   "metadata": {},
   "source": [
    "# Programming Assignment: For loop practice_2\n",
    "\n",
    "Two integers A and B are given. Print all integers in a range from A to B inclusive in ascending order if A <B, or in descending order otherwise.\n",
    "\n",
    "### I​nput\n",
    "\n",
    "Two integers A and B are entered. It is assumed that a user inputs data properly, so the program does not need to check whether the input is correct.\n",
    "\n",
    "### O​utput\n",
    "\n",
    "Print the solution of the problem."
   ]
  },
  {
   "cell_type": "code",
   "execution_count": 24,
   "metadata": {},
   "outputs": [
    {
     "name": "stdin",
     "output_type": "stream",
     "text": [
      " 10\n",
      " 10\n"
     ]
    },
    {
     "name": "stdout",
     "output_type": "stream",
     "text": [
      "10 "
     ]
    }
   ],
   "source": [
    "A = int(input())\n",
    "B = int(input())\n",
    "if A<B:\n",
    "    for num in range(A,B+1,1):\n",
    "        print(num, end=\" \")\n",
    "else:\n",
    "    for num in range(A,B-1,-1):\n",
    "        print(num, end=\" \")"
   ]
  },
  {
   "cell_type": "markdown",
   "metadata": {},
   "source": [
    "# Programming Assignment: For loop practice_3\n",
    "\n",
    "For a given natural number n, calculate the sum 1³ + 2³ + 3³ + ... + n³.\n",
    "\n",
    "### I​nput\n",
    "\n",
    "A​ natural number n is entered. It is assumed that a user inputs data properly, so the program does not need to check whether the input is correct.\n",
    "\n",
    "### O​utput\n",
    "\n",
    "Print the solution of the problem."
   ]
  },
  {
   "cell_type": "code",
   "execution_count": 106,
   "metadata": {},
   "outputs": [
    {
     "name": "stdin",
     "output_type": "stream",
     "text": [
      " 4\n"
     ]
    },
    {
     "name": "stdout",
     "output_type": "stream",
     "text": [
      "100\n"
     ]
    }
   ],
   "source": [
    "n = int(input())\n",
    "sum = 0\n",
    "for num in range(1,n+1):\n",
    "    sum += num**3\n",
    "print(sum)"
   ]
  },
  {
   "cell_type": "markdown",
   "metadata": {},
   "source": [
    "# Programming Assignment: For loop practice_4\n",
    "\n",
    "Calculate the value of n! for a given non-negative integer n.\n",
    "\n",
    "### I​nput\n",
    "\n",
    "A non-negative integer n is entered. It is assumed that a user inputs data properly, so the program does not need to check whether the input is correct.\n",
    "\n",
    "### O​utput\n",
    "\n",
    "Print the solution of the problem."
   ]
  },
  {
   "cell_type": "code",
   "execution_count": 51,
   "metadata": {},
   "outputs": [
    {
     "name": "stdin",
     "output_type": "stream",
     "text": [
      " 5\n"
     ]
    },
    {
     "name": "stdout",
     "output_type": "stream",
     "text": [
      "120\n"
     ]
    }
   ],
   "source": [
    "n = int(input())\n",
    "product = 1\n",
    "\n",
    "for num in range(n,0,-1):\n",
    "    product *= num\n",
    "\n",
    "print(product)"
   ]
  },
  {
   "cell_type": "markdown",
   "metadata": {},
   "source": [
    "# Programming Assignment: For loop practice_5\n",
    "\n",
    "For a given natural number n, calculate the sum 1! + 2! + 3! + ... + n!. Note that only one loop can be used in this task.\n",
    "\n",
    "### I​nput\n",
    "\n",
    "A​ natural number n is entered. It is assumed that a user inputs data properly, so the program does not need to check whether the input is correct.\n",
    "\n",
    "### O​utput\n",
    "\n",
    "Print the solution of the problem."
   ]
  },
  {
   "cell_type": "code",
   "execution_count": 75,
   "metadata": {},
   "outputs": [
    {
     "name": "stdin",
     "output_type": "stream",
     "text": [
      " 11\n"
     ]
    },
    {
     "name": "stdout",
     "output_type": "stream",
     "text": [
      "43954713\n"
     ]
    }
   ],
   "source": [
    "n = int(input())\n",
    "sum1 = 0\n",
    "product = 1\n",
    "for num in range(1,n+1):\n",
    "    product *= num\n",
    "    sum1 += product\n",
    "print(sum1)"
   ]
  },
  {
   "cell_type": "markdown",
   "metadata": {},
   "source": [
    "# Programming Assignment: For loop practice_6\n",
    "\n",
    "Write a program that prints n flags for a given number n from 1 to 9. The image of one flag has a size of 4 × 4 characters. There is also an empty column made of spaces between two adjacent flags. It is allowed to print an empty column after the last flag. Each flag must contain its number from 1 to n.\n",
    "\n",
    "### I​nput\n",
    "\n",
    "A​ natural number n is entered. It is assumed that a user inputs data properly, so the program does not need to check whether the input is correct.\n",
    "\n",
    "### O​utput\n",
    "\n",
    "Print the solution of the problem."
   ]
  },
  {
   "cell_type": "code",
   "execution_count": 163,
   "metadata": {},
   "outputs": [
    {
     "name": "stdin",
     "output_type": "stream",
     "text": [
      " 4\n"
     ]
    },
    {
     "name": "stdout",
     "output_type": "stream",
     "text": [
      "+___ +___ +___ +___ \n",
      "|1 / |2 / |3 / |4 / \n",
      "|__\\ |__\\ |__\\ |__\\ \n",
      "|    |    |    |    "
     ]
    }
   ],
   "source": [
    "number = int(input())\n",
    "\n",
    "\n",
    "for n in range(number):\n",
    "    s1 = '+___' \n",
    "    print(s1,end=\" \")\n",
    "print()\n",
    "for n in range(number):\n",
    "    s2 = '|' + str(n+1) + ' /' \n",
    "    print(s2,end=\" \")\n",
    "print()\n",
    "for n in range(number):\n",
    "    s3 = \"|__\\\\\"\n",
    "    print(s3,end=\" \")\n",
    "print()\n",
    "for n in range(number):\n",
    "    s4 = '|   '  \n",
    "    print(s4,end=\" \")\n"
   ]
  },
  {
   "cell_type": "markdown",
   "metadata": {},
   "source": [
    "# Programming Assignment: For loop practice_7\n",
    "\n",
    "Several numbers are given. Write a program which counts how many of them are equal to zero and print that amount.\n",
    "\n",
    "### I​nput\n",
    "\n",
    "First, the number N is entered, and then exactly N integers are entered. It is assumed that a user inputs data properly, so the program does not need to check whether the input is correct.\n",
    "\n",
    "### O​utput\n",
    "\n",
    "Print the solution of the problem."
   ]
  },
  {
   "cell_type": "code",
   "execution_count": 167,
   "metadata": {},
   "outputs": [
    {
     "name": "stdin",
     "output_type": "stream",
     "text": [
      " 3\n",
      " 0\n",
      " 1\n",
      " 0\n"
     ]
    },
    {
     "name": "stdout",
     "output_type": "stream",
     "text": [
      "2\n"
     ]
    }
   ],
   "source": [
    "Num = int(input())\n",
    "count = 0\n",
    "for n in range(Num):\n",
    "    i = int(input())\n",
    "    if i == 0:\n",
    "        count+=1\n",
    "print(count)"
   ]
  },
  {
   "cell_type": "markdown",
   "metadata": {},
   "source": [
    "# Programming Assignment: For loop practice_8\n",
    "\n",
    "A list of email addresses is given. Write a program which finds all emails with the domain '@gmail.com' and prints them on the screen.\n",
    "\n",
    "### I​nput\n",
    "\n",
    "First, the number N is entered, and then exactly N email addresses are entered. It is assumed that a user inputs data properly, so the program does not need to check whether the input is correct.\n",
    "\n",
    "### O​utput\n",
    "\n",
    "Print the solution of the problem."
   ]
  },
  {
   "cell_type": "code",
   "execution_count": 170,
   "metadata": {},
   "outputs": [
    {
     "name": "stdin",
     "output_type": "stream",
     "text": [
      " 1\n",
      " fhfh@dhdhd.com\n"
     ]
    }
   ],
   "source": [
    "Num = int(input())\n",
    "d = []\n",
    "for i in range(Num):\n",
    "    email = input()\n",
    "    d.append(email)\n",
    "    \n",
    "for email in d:\n",
    "    if '@gmail' in email:\n",
    "        print(email)"
   ]
  },
  {
   "cell_type": "markdown",
   "metadata": {},
   "source": [
    "# Programming Assignment: For loop practice_9\n",
    "\n",
    "Write a Python program to create the multiplication table (from 1 to 10) of an entered integer n.\n",
    "\n",
    "### I​nput\n",
    "\n",
    "An integer n is entered. It is assumed that a user inputs data properly, so the program does not need to check whether the input is correct.\n",
    "\n",
    "### O​utput\n",
    "\n",
    "Print the solution of the problem."
   ]
  },
  {
   "cell_type": "code",
   "execution_count": 175,
   "metadata": {},
   "outputs": [
    {
     "name": "stdin",
     "output_type": "stream",
     "text": [
      " 5\n"
     ]
    },
    {
     "name": "stdout",
     "output_type": "stream",
     "text": [
      "5 x 1 = 5\n",
      "5 x 2 = 10\n",
      "5 x 3 = 15\n",
      "5 x 4 = 20\n",
      "5 x 5 = 25\n",
      "5 x 6 = 30\n",
      "5 x 7 = 35\n",
      "5 x 8 = 40\n",
      "5 x 9 = 45\n",
      "5 x 10 = 50\n"
     ]
    }
   ],
   "source": [
    "number = int(input())\n",
    "\n",
    "for i in range(1,11):\n",
    "    result = i*number\n",
    "    print('{num} x {multiply} = {res}'.format(num=number, multiply=i, res=result))"
   ]
  },
  {
   "cell_type": "markdown",
   "metadata": {},
   "source": [
    "# Programming Assignment: For loop practice_10\n",
    "\n",
    "Two four-digit numbers A and B are given. Output all four-digit numbers in the range from A to B, the record of which is a palindrome, i.e. a number or other sequence of characters which reads the same backward as forward.\n",
    "\n",
    "### I​nput\n",
    "\n",
    "Two four-digit numbers A and B are given. It is assumed that a user inputs data properly, so the program does not need to check whether the input is correct.\n",
    "\n",
    "### O​utput\n",
    "\n",
    "Print the solution of the problem. Note that if A and B are palindromes, the program prints them as well."
   ]
  },
  {
   "cell_type": "code",
   "execution_count": 189,
   "metadata": {},
   "outputs": [
    {
     "name": "stdin",
     "output_type": "stream",
     "text": [
      " 1600\n",
      " 2100\n"
     ]
    },
    {
     "name": "stdout",
     "output_type": "stream",
     "text": [
      "1661\n",
      "1771\n",
      "1881\n",
      "1991\n",
      "2002\n"
     ]
    }
   ],
   "source": [
    "A = int(input())\n",
    "B = int(input())\n",
    "\n",
    "for i in range(A,B+1):\n",
    "    x = str(i)\n",
    "    if x[::1] == x[::-1]:\n",
    "        print(i)"
   ]
  },
  {
   "cell_type": "markdown",
   "metadata": {},
   "source": [
    "# Programming Assignment: For loop practice_11\n",
    "\n",
    "On the Internet, each computer is assigned a four-byte code which is usually written in the form of four numbers, each of which can take values from 0 to 255, separated by dots. Here are examples of correct IP addresses:\n",
    "\n",
    "    127.0.0.0\n",
    "    192.168.0.1\n",
    "    255.0.255.255 \n",
    "\n",
    "Write a program that determines if a given string is a valid IP address.\n",
    "\n",
    "### I​nput\n",
    "\n",
    "The program reads a string of arbitrary characters entered from the keyboard as input. It is assumed that a user inputs data properly, so the program does not need to check whether the input is correct.\n",
    "\n",
    "### O​utput\n",
    "\n",
    "Print the solution of the problem."
   ]
  },
  {
   "cell_type": "code",
   "execution_count": 27,
   "metadata": {},
   "outputs": [
    {
     "name": "stdin",
     "output_type": "stream",
     "text": [
      " 1.1.1.1\n"
     ]
    },
    {
     "name": "stdout",
     "output_type": "stream",
     "text": [
      "YES\n"
     ]
    }
   ],
   "source": [
    "ip_add = input()\n",
    "ip = ip_add.split('.')\n",
    "d = []\n",
    "\n",
    "for n in ip:\n",
    "    try:\n",
    "        d.append(int(n))\n",
    "    except:\n",
    "        d = [400,400]\n",
    "if min(d) >=0 and max(d) < 256:\n",
    "    if len(d) == 4:\n",
    "        print('YES')\n",
    "    elif len(d) != 4:\n",
    "        print('NO')\n",
    "elif min(d) <0 or max(d) >= 256:\n",
    "    print('NO')\n",
    "elif len(d) != 4:\n",
    "    print('NO')\n",
    "else:\n",
    "    print('NO')"
   ]
  },
  {
   "cell_type": "code",
   "execution_count": 20,
   "metadata": {},
   "outputs": [
    {
     "name": "stdout",
     "output_type": "stream",
     "text": [
      "[1, 1]\n"
     ]
    }
   ],
   "source": [
    "print(d)"
   ]
  },
  {
   "cell_type": "code",
   "execution_count": 21,
   "metadata": {},
   "outputs": [
    {
     "name": "stdout",
     "output_type": "stream",
     "text": [
      "2 1 1\n"
     ]
    }
   ],
   "source": [
    "print(len(d),min(d), max(d))"
   ]
  },
  {
   "cell_type": "code",
   "execution_count": null,
   "metadata": {},
   "outputs": [],
   "source": []
  }
 ],
 "metadata": {
  "kernelspec": {
   "display_name": "Python 3",
   "language": "python",
   "name": "python3"
  },
  "language_info": {
   "codemirror_mode": {
    "name": "ipython",
    "version": 3
   },
   "file_extension": ".py",
   "mimetype": "text/x-python",
   "name": "python",
   "nbconvert_exporter": "python",
   "pygments_lexer": "ipython3",
   "version": "3.8.6"
  }
 },
 "nbformat": 4,
 "nbformat_minor": 4
}
