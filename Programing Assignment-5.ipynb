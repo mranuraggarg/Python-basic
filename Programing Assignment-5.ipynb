{
 "cells": [
  {
   "cell_type": "markdown",
   "metadata": {},
   "source": [
    "# Programming Assignment: Lists practice_1\n",
    "\n",
    "Write a program which prints all elements of the list with even indices, i.e. which are L[0], L[2], L[4], ....\n",
    "\n",
    "### I​nput\n",
    "\n",
    "A list of random elements is entered. All elements are passed to the program as a single string of elements separated by spaces. It is assumed that a user inputs data properly, so the program does not need to check whether the input is correct.\n",
    "\n",
    "### O​utput\n",
    "\n",
    "Print the solution of the problem."
   ]
  },
  {
   "cell_type": "code",
   "execution_count": 6,
   "metadata": {},
   "outputs": [
    {
     "name": "stdin",
     "output_type": "stream",
     "text": [
      " q w e r t y u i o p a s d f g h j k l z x c v b n m\n"
     ]
    },
    {
     "name": "stdout",
     "output_type": "stream",
     "text": [
      "q e t u o a d g j l x v n "
     ]
    }
   ],
   "source": [
    "some_string = input()\n",
    "d_list = some_string.split(' ')\n",
    "\n",
    "for element in d_list[::2]:\n",
    "    print(element, end=\" \")"
   ]
  },
  {
   "cell_type": "markdown",
   "metadata": {},
   "source": [
    "# Programming Assignment: Lists practice_2\n",
    "\n",
    "A list of integers is entered. Print the value of the largest element in the list, and then the index of that element in the list. If there are several largest elements, print the index of the first of them.\n",
    "\n",
    "### I​nput\n",
    "\n",
    "A list of integers is entered. All numbers are entered from the keyboard as a one line. It is assumed that a user inputs data properly, so the program does not need to check whether the input is correct.\n",
    "\n",
    "### O​utput\n",
    "\n",
    "Print the solution of the problem."
   ]
  },
  {
   "cell_type": "code",
   "execution_count": 70,
   "metadata": {},
   "outputs": [
    {
     "name": "stdin",
     "output_type": "stream",
     "text": [
      " 1 2 3 4 5\n"
     ]
    },
    {
     "name": "stdout",
     "output_type": "stream",
     "text": [
      "5 4\n"
     ]
    }
   ],
   "source": [
    "some_string = input()\n",
    "d_list = []\n",
    "for i in some_string.split(' '):\n",
    "    d_list.append(int(i))\n",
    "    \n",
    "max_n = max(d_list)\n",
    "index_max_n = d_list.index(max_n)\n",
    "print(max_n,index_max_n)"
   ]
  },
  {
   "cell_type": "markdown",
   "metadata": {},
   "source": [
    "# Programming Assignment: Lists practice_3\n",
    "\n",
    "A list of numbers and the index k of an element in the list are given. Remove the element with index k from the list by moving to the left all elements which are right from the element with index k. The program gets a list as an input, and then the number k. The program rearranges all the elements, and then removes the last element of the list using the pop() method. The program should change the order of elements right in the list, not do it while printing elements. Note that you are not supposed to use an additional list.\n",
    "\n",
    "### I​nput\n",
    "\n",
    "A list of numbers is entered. All numbers are entered from the keyboard as a one line. Then, an integer k is entered. It is assumed that a user inputs data properly, so the program does not need to check whether the input is correct.\n",
    "\n",
    "### O​utput\n",
    "\n",
    "Print the solution of the problem."
   ]
  },
  {
   "cell_type": "code",
   "execution_count": 61,
   "metadata": {},
   "outputs": [
    {
     "name": "stdin",
     "output_type": "stream",
     "text": [
      " 7 6 5 4 3 2 1\n",
      " 2\n"
     ]
    },
    {
     "name": "stdout",
     "output_type": "stream",
     "text": [
      "7 6 4 3 2 1 "
     ]
    }
   ],
   "source": [
    "some_string = input()\n",
    "k = int(input())\n",
    "d_list = some_string.split(' ')\n",
    "x = d_list[2]\n",
    "d_list = d_list[0:k] + d_list[k+1:len(d_list)] + [x]\n",
    "d_list.pop()\n",
    "for i in d_list:\n",
    "    print(i, end=\" \")"
   ]
  },
  {
   "cell_type": "markdown",
   "metadata": {},
   "source": [
    "# Programming Assignment: Lists practice_4\n",
    "\n",
    "A list of integers, a number k, and a value C are given. Write a program which inserts an element equal to C into the list at the position with index k, shifting all elements with index more than k to the right. The program must insert this new value in the entered list, not doing this while printing it, and without the use of an additional list.\n",
    "\n",
    "### I​nput\n",
    "\n",
    "A list of numbers is entered. All numbers are entered from the keyboard as a one line. Then, integers k and C are entered in a single line. It is assumed that a user inputs data properly, so the program does not need to check whether the input is correct.\n",
    "\n",
    "### O​utput\n",
    "\n",
    "Print the solution of the problem."
   ]
  },
  {
   "cell_type": "code",
   "execution_count": 119,
   "metadata": {},
   "outputs": [
    {
     "name": "stdin",
     "output_type": "stream",
     "text": [
      " 2 -1\n",
      " 1 0\n"
     ]
    },
    {
     "name": "stdout",
     "output_type": "stream",
     "text": [
      "2 0 -1 "
     ]
    }
   ],
   "source": [
    "some_string = input()\n",
    "index_num = input()\n",
    "d_list = some_string.split(' ')\n",
    "k,C = index_num[0], index_num[2:]\n",
    "k = int(k)\n",
    "C = int(C)\n",
    "d_list = d_list[0:k] + [C] + d_list[k:len(d_list)]\n",
    "for i in d_list:\n",
    "    print(i, end=\" \")"
   ]
  },
  {
   "cell_type": "code",
   "execution_count": 108,
   "metadata": {},
   "outputs": [
    {
     "name": "stdin",
     "output_type": "stream",
     "text": [
      " 1 2\n"
     ]
    },
    {
     "data": {
      "text/plain": [
       "int"
      ]
     },
     "execution_count": 108,
     "metadata": {},
     "output_type": "execute_result"
    }
   ],
   "source": [
    "k = input()\n",
    "k = k[0]"
   ]
  },
  {
   "cell_type": "markdown",
   "metadata": {},
   "source": [
    "# Programming Assignment: Lists practice_5\n",
    "\n",
    "A list sorted in non-decreasing order of elements is given. Write a program which determines how many unique elements there are.\n",
    "\n",
    "### I​nput\n",
    "\n",
    "A nonempty list of numbers is entered. All numbers are entered from the keyboard as a one line. It is assumed that a user inputs data properly, so the program does not need to check whether the input is correct.\n",
    "\n",
    "### O​utput\n",
    "\n",
    "Print the solution of the problem."
   ]
  },
  {
   "cell_type": "code",
   "execution_count": 91,
   "metadata": {},
   "outputs": [
    {
     "name": "stdin",
     "output_type": "stream",
     "text": [
      " -1 2 -2 2 -2\n"
     ]
    },
    {
     "name": "stdout",
     "output_type": "stream",
     "text": [
      "3\n"
     ]
    }
   ],
   "source": [
    "some_string = input()\n",
    "d_list = some_string.split(' ')\n",
    "\n",
    "print(len(set(d_list)))"
   ]
  },
  {
   "cell_type": "markdown",
   "metadata": {},
   "source": [
    "# Programming Assignment: Lists practice_6\n",
    "\n",
    "A list is given. Write a program which prints those elements of the list which appear in the list only once. These elements should be printed in the order in which they appear in the list.\n",
    "\n",
    "### I​nput\n",
    "\n",
    "A list of numbers is entered. All numbers are entered from the keyboard as a one line. It is assumed that a user inputs data properly, so the program does not need to check whether the input is correct.\n",
    "\n",
    "### O​utput\n",
    "\n",
    "Print the solution of the problem."
   ]
  },
  {
   "cell_type": "code",
   "execution_count": 138,
   "metadata": {},
   "outputs": [
    {
     "name": "stdin",
     "output_type": "stream",
     "text": [
      " 2 2 3 3 4 4 5 5 5 5 6 7\n"
     ]
    },
    {
     "name": "stdout",
     "output_type": "stream",
     "text": [
      "6 7 "
     ]
    }
   ],
   "source": [
    "some_string = input()\n",
    "d_list = some_string.split(' ')\n",
    "\n",
    "for x in d_list:\n",
    "    a = d_list.count(x)\n",
    "    if a == 1:\n",
    "        print(x,end=\" \")"
   ]
  },
  {
   "cell_type": "markdown",
   "metadata": {},
   "source": [
    "# Programming Assignment: Lists practice_7\n",
    "\n",
    "Ivan decided to enroll in a swimming course. Before the start of the lesson, swimmers line up in height from highest to lowest. Ivan needs to determine his place in the line. Help him do it!\n",
    "\n",
    "### I​nput\n",
    "\n",
    "The program reads as input a non-increasing sequence of natural numbers entered from the keyboard. Each number is a height of a person in the line. Then, the number X is entered, which is the Ivan's height. All numbers are positive integers which do not exceed 200. It is assumed that a user inputs data properly, so the program does not need to check whether the input is correct.\n",
    "\n",
    "### O​utput\n",
    "\n",
    "Print the number under which Ivan should stand in a line. If there are people in the line with the same height as Ivan's, then he must stand after them."
   ]
  },
  {
   "cell_type": "code",
   "execution_count": 39,
   "metadata": {},
   "outputs": [
    {
     "name": "stdin",
     "output_type": "stream",
     "text": [
      " 165 163 160 160 157 157 155 154\n",
      " 160\n"
     ]
    },
    {
     "name": "stdout",
     "output_type": "stream",
     "text": [
      "5\n"
     ]
    }
   ],
   "source": [
    "some_string = input()\n",
    "hight = int(input())\n",
    "d_list = []\n",
    "n=1\n",
    "for i in some_string.split(' '):\n",
    "    try:\n",
    "        d_list.append(int(i))\n",
    "    except ValueError as ve:\n",
    "        break\n",
    "d_list.append(hight)\n",
    "d_list.sort(reverse=True)\n",
    "res = [] \n",
    "for idx, val in enumerate(d_list): \n",
    "    if val == hight: \n",
    "        res.append(idx)\n",
    "print(max(res)+n)"
   ]
  },
  {
   "cell_type": "markdown",
   "metadata": {},
   "source": [
    "# Programming Assignment: Lists practice_8\n",
    "\n",
    "There is an interesting fact in chess that 8 queens can be placed on an 8 × 8 board so that they do not beat each other. Write a program which gets the arrangement of 8 queens on the board and determines if there is a pair of them beating each other.\n",
    "\n",
    "### I​nput\n",
    "\n",
    "Eight pairs of numbers are entered, which are is the coordinates of 8 queens. It is assumed that a user inputs data properly, so the program does not need to check whether the input is correct.\n",
    "\n",
    "### O​utput\n",
    "\n",
    "If queens do not beat each other, print the word NO, otherwise print YES"
   ]
  },
  {
   "cell_type": "code",
   "execution_count": 61,
   "metadata": {},
   "outputs": [
    {
     "name": "stdin",
     "output_type": "stream",
     "text": [
      " 1 7\n",
      " 2 4\n",
      " 3 2\n",
      " 4 8\n",
      " 5 6\n",
      " 6 1\n",
      " 7 3\n",
      " 8 5\n"
     ]
    },
    {
     "name": "stdout",
     "output_type": "stream",
     "text": [
      "NO\n"
     ]
    }
   ],
   "source": [
    "def int_list(p1,d,final):\n",
    "    d = []\n",
    "    for i in p1.split(' '):\n",
    "        d.append(int(i))\n",
    "    final.append(d)\n",
    "\n",
    "def horizontal_check(pos1,pos2):\n",
    "    if pos1[0] == pos2[0]:\n",
    "        return True\n",
    "    else:\n",
    "        return False\n",
    "    \n",
    "def vertical_check(pos1,pos2):\n",
    "    if pos1[1] == pos2[1]:\n",
    "        return True\n",
    "    else:\n",
    "        return False\n",
    "    \n",
    "def diagonal_check(pos1,pos2):\n",
    "    if abs(pos1[0] - pos2[0]) == abs(pos1[1] - pos2[1]) and pos1[0]!=pos1[1]:\n",
    "        return True\n",
    "    else:\n",
    "        return False\n",
    "\n",
    "final = []\n",
    "pos1 = []\n",
    "pos2 = []\n",
    "pos3 = []\n",
    "pos4 = []\n",
    "pos5 = []\n",
    "pos6 = []\n",
    "pos7 = []\n",
    "pos8 = []\n",
    "p1 = input()\n",
    "int_list(p1,pos1,final)\n",
    "p1 = input()\n",
    "int_list(p1,pos2,final)\n",
    "p1 = input()\n",
    "int_list(p1,pos3,final)\n",
    "p1 = input()\n",
    "int_list(p1,pos4,final)\n",
    "p1 = input()\n",
    "int_list(p1,pos5,final)\n",
    "p1 = input()\n",
    "int_list(p1,pos6,final)\n",
    "p1 = input()\n",
    "int_list(p1,pos7,final)\n",
    "p1 = input()\n",
    "int_list(p1,pos8,final)\n",
    "\n",
    "sum = 0\n",
    "for i in range(8):\n",
    "    for j in range(8):\n",
    "        if i>j:\n",
    "            a=(horizontal_check(final[i],final[j]))\n",
    "            b=(vertical_check(final[i],final[j]))\n",
    "            c=(diagonal_check(final[i],final[j]))\n",
    "            sum = sum+(a+b+c)/3\n",
    "if sum == 0:\n",
    "    print('NO')\n",
    "elif sum !=0:\n",
    "    print('YES')"
   ]
  },
  {
   "cell_type": "markdown",
   "metadata": {},
   "source": [
    "# Programming Assignment: List comprehensions_1\n",
    "\n",
    "Create a list of numbers from 10 to 20 using list comprehensions.\n",
    "\n",
    "### Input\n",
    "\n",
    "N​o input is needed for this task.\n",
    "\n",
    "### O​utput\n",
    "\n",
    "P​rint a list object on the screen."
   ]
  },
  {
   "cell_type": "code",
   "execution_count": 151,
   "metadata": {},
   "outputs": [
    {
     "name": "stdout",
     "output_type": "stream",
     "text": [
      "[10, 11, 12, 13, 14, 15, 16, 17, 18, 19, 20]\n"
     ]
    }
   ],
   "source": [
    "l = [x for x in range(10,21)]\n",
    "print(l)"
   ]
  },
  {
   "cell_type": "markdown",
   "metadata": {},
   "source": [
    "# Programming Assignment: List comprehensions_2\n",
    "\n",
    "Create a list of numbers divisible by 3 in the range from 10 to 50 using list comprehensions.\n",
    "\n",
    "### Input\n",
    "\n",
    "N​o input is needed for this task.\n",
    "\n",
    "### O​utput\n",
    "\n",
    "P​rint a list object on the screen."
   ]
  },
  {
   "cell_type": "code",
   "execution_count": 17,
   "metadata": {},
   "outputs": [
    {
     "name": "stdout",
     "output_type": "stream",
     "text": [
      "[12, 15, 18, 21, 24, 27, 30, 33, 36, 39, 42, 45, 48]\n"
     ]
    }
   ],
   "source": [
    "l = [x for x in range(10,50) if x%3==0]\n",
    "print(l)"
   ]
  },
  {
   "cell_type": "code",
   "execution_count": null,
   "metadata": {},
   "outputs": [],
   "source": []
  }
 ],
 "metadata": {
  "kernelspec": {
   "display_name": "Python 3",
   "language": "python",
   "name": "python3"
  },
  "language_info": {
   "codemirror_mode": {
    "name": "ipython",
    "version": 3
   },
   "file_extension": ".py",
   "mimetype": "text/x-python",
   "name": "python",
   "nbconvert_exporter": "python",
   "pygments_lexer": "ipython3",
   "version": "3.8.2"
  }
 },
 "nbformat": 4,
 "nbformat_minor": 4
}
