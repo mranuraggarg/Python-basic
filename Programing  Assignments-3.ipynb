{
 "cells": [
  {
   "cell_type": "markdown",
   "metadata": {},
   "source": [
    "# Programming Assignment: Math module_1\n",
    "\n",
    "A positive real number X is given. Write a program which prints its first digit after the decimal point. Do not use conditional statements, loops, or strings to solve this problem.\n",
    "\n",
    "### Input \n",
    "\n",
    "The program reads a positive real number X from the keyboard as input. It is assumed that a user inputs data properly, so the program does not need to check whether the input is correct.\n",
    "\n",
    "### Output\n",
    "\n",
    "Print the solution of the problem."
   ]
  },
  {
   "cell_type": "code",
   "execution_count": 78,
   "metadata": {},
   "outputs": [
    {
     "name": "stdin",
     "output_type": "stream",
     "text": [
      " 20.02\n"
     ]
    },
    {
     "name": "stdout",
     "output_type": "stream",
     "text": [
      "0\n"
     ]
    }
   ],
   "source": [
    "from math import floor\n",
    "n = float(input())\n",
    "m = round(n,1)\n",
    "diff = m - n\n",
    "if diff > 0.00:\n",
    "    m = round(m - 0.1, 1)\n",
    "    y = floor(m)\n",
    "    ans = int(round((m - y)*10,1))\n",
    "    print(ans)\n",
    "elif diff <= 0.00:\n",
    "    y = floor(m)\n",
    "    ans = int(round((m - y)*10,1))\n",
    "    print(ans) "
   ]
  },
  {
   "cell_type": "markdown",
   "metadata": {},
   "source": [
    "# Programming Assignment: Math module_2\n",
    "\n",
    "The lengths of the sides of the triangle are given. Write a program which calculates the area of the triangle.\n",
    "\n",
    "### Input\n",
    "\n",
    "Three positive numbers are entered. It is assumed that a user inputs data properly, so the program does not need to check whether the input is correct.\n",
    "\n",
    "### Output\n",
    "\n",
    "Print the solution of the problem. Round the result to 5 decimal places."
   ]
  },
  {
   "cell_type": "code",
   "execution_count": 87,
   "metadata": {},
   "outputs": [
    {
     "name": "stdin",
     "output_type": "stream",
     "text": [
      " 5\n",
      " 6\n",
      " 10\n"
     ]
    },
    {
     "name": "stdout",
     "output_type": "stream",
     "text": [
      "11.39901\n"
     ]
    }
   ],
   "source": [
    "from math import sqrt\n",
    "a = float(input())\n",
    "b = float(input())\n",
    "c = float(input())\n",
    "area = 0\n",
    "s = (a+b+c)/2\n",
    "if s > a and s > b and s > c:\n",
    "    area = sqrt(s*(s-a)*(s-b)*(s-c))\n",
    "print(round(area,5))"
   ]
  },
  {
   "cell_type": "markdown",
   "metadata": {},
   "source": [
    "# Programming Assignment: Math module_3\n",
    "\n",
    "Ivan has a deposit of X dollars and Y cents. The interest rate on the deposit is P percent per year, which is added to the deposit annually, i.e. the amount of the deposit is recalculated annually (recall the idea of compound interest rate). The fractional part of cents is discarded annually. Determine the size of the deposit in K years.\n",
    "\n",
    "### Input\n",
    "\n",
    "Four integers - P, X, Y, K - are entered. It is assumed that a user inputs data properly, so the program does not need to check whether the input is correct.\n",
    "\n",
    "### Output\n",
    "\n",
    "The program should print two numbers which show the amount of the deposit in K years where dollars and cents are separated by a space.\n",
    "\n"
   ]
  },
  {
   "cell_type": "code",
   "execution_count": 105,
   "metadata": {},
   "outputs": [
    {
     "name": "stdin",
     "output_type": "stream",
     "text": [
      " 12\n",
      " 179\n",
      " 0\n",
      " 5\n"
     ]
    },
    {
     "name": "stdout",
     "output_type": "stream",
     "text": [
      "200 48\n",
      "224 48\n",
      "251 36\n",
      "281 48\n",
      "315 20\n"
     ]
    }
   ],
   "source": [
    "P = int(input())\n",
    "X = int(input())\n",
    "Y = int(input())\n",
    "K = int(input())\n",
    "\n",
    "for time in range(K):\n",
    "    A = X*(100+P)\n",
    "    Y = Y + (A - int(A/100)*100)\n",
    "    X = int(A/100)\n",
    "    if Y > 100:\n",
    "        X = X+1\n",
    "        Y = Y-100\n",
    "    print(X,Y)"
   ]
  },
  {
   "cell_type": "code",
   "execution_count": 103,
   "metadata": {},
   "outputs": [
    {
     "data": {
      "text/plain": [
       "24.0"
      ]
     },
     "execution_count": 103,
     "metadata": {},
     "output_type": "execute_result"
    }
   ],
   "source": [
    "(48+48+36+48+20)*0.12"
   ]
  },
  {
   "cell_type": "markdown",
   "metadata": {},
   "source": [
    "# Programming Assignment: Math module_4\n",
    "\n",
    "Find out the log method in the Math module documentation. Write a program which calculates natural logarithm of a number and prints it on the screen. If natural logarithm cannot be calculated for a given number, the program should print \"Undefined\".\n",
    "\n",
    "### Input\n",
    "\n",
    "A​ real number is entered. It is assumed that a user inputs data properly, so the program does not need to check whether the input is correct.\n",
    "\n",
    "### Output\n",
    "\n",
    "The program prints n​atural logarithm of the entered number if it can be calculated; or \"Undefined\" otherwise. Round the result to 5 decimal places."
   ]
  },
  {
   "cell_type": "code",
   "execution_count": 8,
   "metadata": {},
   "outputs": [
    {
     "name": "stdin",
     "output_type": "stream",
     "text": [
      " 1\n"
     ]
    },
    {
     "name": "stdout",
     "output_type": "stream",
     "text": [
      "0.0\n"
     ]
    }
   ],
   "source": [
    "from math import log\n",
    "n = float(input())\n",
    "try:\n",
    "    print(round(log(n),5))\n",
    "except:\n",
    "    print('Undefined')"
   ]
  },
  {
   "cell_type": "markdown",
   "metadata": {},
   "source": [
    "# Programming Assignment: String methods_1\n",
    "\n",
    "Write a program which prints the first element of a string in the first line; from 2nd to 5th elements of the given string in the second line; all the elements in the reverse order in the third line; every third element of the given string in the fourth line.\n",
    "\n",
    "### Input\n",
    "\n",
    "The program reads a​ string from the keyboard as input. It is assumed that a user inputs data properly, so the program does not need to check whether the input is correct.\n",
    "\n",
    "### Output\n",
    "\n",
    "Print the solution of the problem.\n"
   ]
  },
  {
   "cell_type": "code",
   "execution_count": 45,
   "metadata": {},
   "outputs": [
    {
     "name": "stdin",
     "output_type": "stream",
     "text": [
      " ABCDEFGHIJK\n"
     ]
    },
    {
     "name": "stdout",
     "output_type": "stream",
     "text": [
      "A\n",
      "BCDE\n",
      "KJIHGFEDCBA\n",
      "CFI\n"
     ]
    }
   ],
   "source": [
    "some_string = input()\n",
    "print(some_string[0])\n",
    "print(some_string[1:5])\n",
    "print(some_string[::-1])\n",
    "print(some_string[2::3])"
   ]
  },
  {
   "cell_type": "markdown",
   "metadata": {},
   "source": [
    "# Programming Assignment: String methods_2\n",
    "\n",
    "Imagine you develop a program for a website which checks whether the number of characters of an entered string exceeds the limit. If the length of the entered string is more than this limit the program prints 'error'; it prints 'ok' otherwise.\n",
    "\n",
    "### I​nput\n",
    "\n",
    "T​he program reads a positive natural number and a string entered from the keyboard as input. It is assumed that a user inputs data properly, so the program does not need to check whether the input is correct.\n",
    "\n",
    "### O​utput\n",
    "\n",
    "Print the solution of the problem."
   ]
  },
  {
   "cell_type": "code",
   "execution_count": 47,
   "metadata": {},
   "outputs": [
    {
     "name": "stdin",
     "output_type": "stream",
     "text": [
      " 10\n",
      " abc\n"
     ]
    },
    {
     "name": "stdout",
     "output_type": "stream",
     "text": [
      "ok\n"
     ]
    }
   ],
   "source": [
    "limit = int(input())\n",
    "word = input()\n",
    "if len(word) <= limit:\n",
    "    print('ok')\n",
    "else:\n",
    "    print('error')"
   ]
  },
  {
   "cell_type": "markdown",
   "metadata": {},
   "source": [
    "# Programming Assignment: String methods_3\n",
    "\n",
    "A string which consists of words separated by spaces is given. Determine how many words the string contains.\n",
    "\n",
    "### I​nput\n",
    "\n",
    "A string is entered. It is assumed that a user inputs data properly, so the program does not need to check whether the input is correct.\n",
    "\n",
    "### O​utput\n",
    "\n",
    "Print the solution of the problem."
   ]
  },
  {
   "cell_type": "code",
   "execution_count": 49,
   "metadata": {},
   "outputs": [
    {
     "name": "stdin",
     "output_type": "stream",
     "text": [
      " Anurag Garg name my ok\n"
     ]
    },
    {
     "name": "stdout",
     "output_type": "stream",
     "text": [
      "5\n"
     ]
    }
   ],
   "source": [
    "some_string = input()\n",
    "converted_list = some_string.split()\n",
    "print(len(converted_list))"
   ]
  },
  {
   "cell_type": "markdown",
   "metadata": {},
   "source": [
    "# Programming Assignment: String methods_4\n",
    "\n",
    "A string is given. Write a program which cuts it into two equal parts if the length of the string is even. If the length of the string is odd, then the length of the first part must be one character longer. Then, the program should rearrange these two parts in places, store the result in a new variable, and print it on the screen.\n",
    "\n",
    "### I​nput\n",
    "\n",
    "A string is entered. It is assumed that a user inputs data properly, so the program does not need to check whether the input is correct.\n",
    "\n",
    "### O​utput\n",
    "\n",
    "Print the solution of the problem."
   ]
  },
  {
   "cell_type": "code",
   "execution_count": 60,
   "metadata": {},
   "outputs": [
    {
     "name": "stdin",
     "output_type": "stream",
     "text": [
      " HI\n"
     ]
    },
    {
     "name": "stdout",
     "output_type": "stream",
     "text": [
      "IH\n"
     ]
    }
   ],
   "source": [
    "word = input()\n",
    "if len(word)%2==0:\n",
    "    n = int(len(word)/2)\n",
    "else:\n",
    "    n = int(len(word)/2) + 1\n",
    "    \n",
    "first_word = word[0:n]\n",
    "second_word = word[n::]\n",
    "print(second_word+first_word)"
   ]
  },
  {
   "cell_type": "markdown",
   "metadata": {},
   "source": [
    "# Programming Assignment: String methods_5\n",
    "\n",
    "A string of exactly two words separated by a space is given. Write a program which rearranges these words and prints the result on the screen.\n",
    "\n",
    "### I​nput\n",
    "\n",
    "A string is entered. It is assumed that a user inputs data properly, so the program does not need to check whether the input is correct.\n",
    "\n",
    "### O​utput\n",
    "\n",
    "Print the solution of the problem."
   ]
  },
  {
   "cell_type": "code",
   "execution_count": 52,
   "metadata": {},
   "outputs": [
    {
     "name": "stdin",
     "output_type": "stream",
     "text": [
      " Hello Vasilisa\n"
     ]
    },
    {
     "name": "stdout",
     "output_type": "stream",
     "text": [
      "Vasilisa Hello\n"
     ]
    }
   ],
   "source": [
    "some_string = input()\n",
    "converted_list = some_string.split()\n",
    "print(converted_list[1],converted_list[0])"
   ]
  },
  {
   "cell_type": "markdown",
   "metadata": {},
   "source": [
    "# Programming Assignment: String methods_6\n",
    "\n",
    "A string is given. Replace all 1's in this string with 'one'.\n",
    "\n",
    "### I​nput\n",
    "\n",
    "A string is entered. It is assumed that a user inputs data properly, so the program does not need to check whether the input is correct.\n",
    "\n",
    "### O​utput\n",
    "\n",
    "Print the solution of the problem."
   ]
  },
  {
   "cell_type": "code",
   "execution_count": 53,
   "metadata": {},
   "outputs": [
    {
     "name": "stdin",
     "output_type": "stream",
     "text": [
      " 1+1+1=3\n"
     ]
    },
    {
     "name": "stdout",
     "output_type": "stream",
     "text": [
      "one+one+one=3\n"
     ]
    }
   ],
   "source": [
    "word = input()\n",
    "print(word.replace('1','one'))"
   ]
  },
  {
   "cell_type": "markdown",
   "metadata": {},
   "source": [
    "# Programming Assignment: String methods_7\n",
    "\n",
    "A word which consists only of uppercase and lowercase Latin letters is given. Check if it is true that this word is read the same way both from right to left and from left to right, i.e. if it is a palindrome. Uppercase and lowercase letters are considered indistinguishable. Print the word YES if the word is a palindrome and the word NO if it is not.\n",
    "\n",
    "### I​nput\n",
    "\n",
    "A string is entered. It is assumed that a user inputs data properly, so the program does not need to check whether the input is correct.\n",
    "\n",
    "### O​utput\n",
    "\n",
    "Print the solution of the problem."
   ]
  },
  {
   "cell_type": "code",
   "execution_count": 56,
   "metadata": {},
   "outputs": [
    {
     "name": "stdin",
     "output_type": "stream",
     "text": [
      " Hello\n"
     ]
    },
    {
     "name": "stdout",
     "output_type": "stream",
     "text": [
      "NO\n"
     ]
    }
   ],
   "source": [
    "word = input()\n",
    "word = word.lower()\n",
    "flip = word[::-1]\n",
    "if flip == word:\n",
    "    print('YES')\n",
    "else:\n",
    "    print('NO')"
   ]
  },
  {
   "cell_type": "markdown",
   "metadata": {},
   "source": [
    "# Programming Assignment: Formatting strings_1\n",
    "\n",
    "Write a test result handler which, first, gets a number of correct answers and a number of questions in a test, and then prints a message in the format like 'You've done:  'percent'% of all exercises correctly, well done!'. Limit floats to one decimal place.\n",
    "\n",
    "### I​nput\n",
    "\n",
    "The program reads two integers from the keyboard as input. It is assumed that a user inputs data properly, so the program does not need to check whether the input is correct.\n",
    "\n",
    "### O​utput\n",
    "\n",
    "Print the solution of the problem."
   ]
  },
  {
   "cell_type": "code",
   "execution_count": 78,
   "metadata": {},
   "outputs": [
    {
     "name": "stdin",
     "output_type": "stream",
     "text": [
      " 20\n",
      " 33\n"
     ]
    },
    {
     "name": "stdout",
     "output_type": "stream",
     "text": [
      "You've done: 60.6% of all exercises correctly, well done!\n"
     ]
    }
   ],
   "source": [
    "marks = int(input())\n",
    "question = int(input())\n",
    "percent = marks*100/question\n",
    "print('You','ve done: {0:.1f}% of all exercises correctly, well done!'.format(percent), sep=\"'\")"
   ]
  },
  {
   "cell_type": "markdown",
   "metadata": {},
   "source": [
    "You've done: 50.0% of all exercises correctly, well done!"
   ]
  },
  {
   "cell_type": "code",
   "execution_count": 6,
   "metadata": {},
   "outputs": [
    {
     "name": "stdout",
     "output_type": "stream",
     "text": [
      "it worked\n"
     ]
    }
   ],
   "source": [
    "d = 1\n",
    "if d in range(1,20):\n",
    "    print('it worked')"
   ]
  },
  {
   "cell_type": "code",
   "execution_count": null,
   "metadata": {},
   "outputs": [],
   "source": []
  }
 ],
 "metadata": {
  "kernelspec": {
   "display_name": "Python 3",
   "language": "python",
   "name": "python3"
  },
  "language_info": {
   "codemirror_mode": {
    "name": "ipython",
    "version": 3
   },
   "file_extension": ".py",
   "mimetype": "text/x-python",
   "name": "python",
   "nbconvert_exporter": "python",
   "pygments_lexer": "ipython3",
   "version": "3.8.6"
  }
 },
 "nbformat": 4,
 "nbformat_minor": 4
}
